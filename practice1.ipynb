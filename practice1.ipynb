{
 "cells": [
  {
   "cell_type": "code",
   "execution_count": 30,
   "metadata": {},
   "outputs": [
    {
     "name": "stdout",
     "output_type": "stream",
     "text": [
      "Spark Version 4.0.0\n",
      "+---+--------+\n",
      "|age|    name|\n",
      "+---+--------+\n",
      "| 23| Galilea|\n",
      "| 22|  Amelie|\n",
      "| 23|Izabella|\n",
      "+---+--------+\n",
      "\n",
      "+--------+----+\n",
      "|    name| age|\n",
      "+--------+----+\n",
      "| Galilea|23.0|\n",
      "|  Amelie|22.0|\n",
      "|Izabella|23.0|\n",
      "+--------+----+\n",
      "\n",
      "root\n",
      " |-- age: long (nullable = true)\n",
      " |-- name: string (nullable = true)\n",
      "\n",
      "+--------+----+\n",
      "|    name| age|\n",
      "+--------+----+\n",
      "| Galilea|23.0|\n",
      "|  Amelie|22.0|\n",
      "|Izabella|23.0|\n",
      "+--------+----+\n",
      "\n"
     ]
    }
   ],
   "source": [
    "from pyspark.sql import SparkSession\n",
    "\n",
    "spark = SparkSession \\\n",
    "    .builder \\\n",
    "    .appName(\"Python Spark SQL basic example\") \\\n",
    "    .config(\"spark.some.config.option\", \"some-value\") \\\n",
    "    .getOrCreate()\n",
    "print(\"Spark Version \" + spark.version)\n",
    "\n",
    "df = spark.read.json(\"data.json\")\n",
    "df2 = spark.read.csv(\"data.csv\", header=True, inferSchema =True)#w/o option(\"header\", \"true\") the header will be _c0|_c1\n",
    "df.show()\n",
    "df2.show()\n",
    "df.printSchema() \n",
    "\n",
    "\n",
    "#df2.write.parquet(\"./data.parquet\")\n",
    "df2 = spark.read.parquet(\"data.parquet\")\n",
    "csv_path = \"data2.csv\"\n",
    "df2.write.csv(csv_path, header=True, mode=\"overwrite\")\n",
    "\n",
    "df3 = spark.read.csv(\"data2.csv\", header=True, inferSchema =True)\n",
    "df3.show()\n"
   ]
  },
  {
   "cell_type": "code",
   "execution_count": null,
   "metadata": {},
   "outputs": [],
   "source": []
  }
 ],
 "metadata": {
  "kernelspec": {
   "display_name": "pysparksvenv",
   "language": "python",
   "name": "python3"
  },
  "language_info": {
   "codemirror_mode": {
    "name": "ipython",
    "version": 3
   },
   "file_extension": ".py",
   "mimetype": "text/x-python",
   "name": "python",
   "nbconvert_exporter": "python",
   "pygments_lexer": "ipython3",
   "version": "3.9.1"
  }
 },
 "nbformat": 4,
 "nbformat_minor": 2
}
